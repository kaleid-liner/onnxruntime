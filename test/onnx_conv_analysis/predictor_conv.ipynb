{
 "cells": [
  {
   "cell_type": "code",
   "execution_count": 18,
   "metadata": {},
   "outputs": [
    {
     "name": "stdout",
     "output_type": "stream",
     "text": [
      "1144\n"
     ]
    }
   ],
   "source": [
    "import csv\n",
    "from sklearn.model_selection import train_test_split\n",
    "from functools import reduce\n",
    "\n",
    "\n",
    "def calculate_output_shape(cfg):\n",
    "    # const int output_h = (height + 2 * pad_h - (dilation_h * (kernel_h - 1) + 1)) / stride_h + 1;\n",
    "    # const int output_w = (width + 2 * pad_w - (dilation_w * (kernel_w - 1) + 1)) / stride_w + 1;\n",
    "    height, width = cfg['image_shape']\n",
    "    kernel_h, kernel_w = cfg['kernel_shape']\n",
    "    pad_h, pad_w = cfg['pads']\n",
    "    dilation_h, dilation_w = cfg['dilations']\n",
    "    stride_h, stride_w = cfg['strides']\n",
    "    output_h = (height + 2 * pad_h - (dilation_h * (kernel_h - 1) + 1)) // stride_h + 1\n",
    "    output_w = (width + 2 * pad_w - (dilation_w * (kernel_w - 1) + 1)) // stride_w + 1\n",
    "    output_shape = [cfg['batch_size'], cfg['output_channels'], output_h, output_w]\n",
    "    return output_shape\n",
    "\n",
    "\n",
    "def calculate_gmacs(item):\n",
    "    def reduce_list_prod(x):\n",
    "        return reduce(lambda a, b : a * b, x)\n",
    "    cfg = {\n",
    "        'image_shape' : [int(item['H']), int(item['W'])],\n",
    "        'kernel_shape' : [int(item['kH']), int(item['kW'])],\n",
    "        'pads' : [int(item['pad_h']), int(item['pad_w'])],\n",
    "        'dilations' : [int(item['dilation_h']), int(item['dilation_w'])],\n",
    "        'strides' : [int(item['stride_h']), int(item['stride_w'])],\n",
    "        'batch_size' : int(item['N']),\n",
    "        'output_channels' : int(item['kN']),\n",
    "    }\n",
    "    output_shape = calculate_output_shape(cfg)\n",
    "    gmacs = reduce_list_prod(output_shape) * reduce_list_prod(cfg['kernel_shape']) * int(item['C'])\n",
    "    return gmacs * 1e-9\n",
    "\n",
    "\n",
    "def data_processer(file_name : str, split : bool = False):\n",
    "    feature, energy, latency = [], [], []\n",
    "    with open(file_name, 'r') as fp:\n",
    "        f_csv = csv.DictReader(fp)\n",
    "        data = list(f_csv)\n",
    "    for item in data:\n",
    "        repeat = int(item['repeat'])\n",
    "        feature_vec = [\n",
    "                        # item['N'], \n",
    "                        # item['C'], \n",
    "                        item['H'], \n",
    "                        item['W'], \n",
    "                        item['kN'], \n",
    "                        item['kC'], \n",
    "                        item['kH'], \n",
    "                        item['kW'], \n",
    "                        item['pad_h'], \n",
    "                        item['pad_w'], \n",
    "                        # item['dilation_h'], \n",
    "                        # item['dilation_w'], \n",
    "                        item['stride_h'], \n",
    "                        item['stride_w'], \n",
    "                        # item['group'], \n",
    "                        item['has_bias'],\n",
    "                        calculate_gmacs(item),\n",
    "                    ]\n",
    "        feature_vec = [int(x) for x in feature_vec]\n",
    "        feature.append(feature_vec)\n",
    "        energy.append(float(item['energy']) / repeat)\n",
    "        latency.append(float(item['latency']) / repeat)\n",
    "    if split:\n",
    "        feature_train, feature_test, energy_train, energy_test, latency_train, latency_test = train_test_split(feature, energy, latency)\n",
    "        train_split = {\n",
    "            'feature' : feature_train,\n",
    "            'energy' : energy_train,\n",
    "            'latency' : latency_train\n",
    "        }\n",
    "        test_split = {\n",
    "            'feature' : feature_test,\n",
    "            'energy' : energy_test,\n",
    "            'latency' : latency_test\n",
    "        }\n",
    "        return train_split, test_split\n",
    "    else:\n",
    "        train_data = {\n",
    "            'feature' : feature,\n",
    "            'energy' : energy,\n",
    "            'latency' : latency\n",
    "        }\n",
    "        return train_data\n",
    "train_data, val_data = data_processer('onnx_conv_results_part.csv', True)\n",
    "test_data = data_processer('onnx_conv_results_raw_new.csv', False)\n",
    "\n",
    "print(len(test_data['feature']))"
   ]
  },
  {
   "cell_type": "code",
   "execution_count": 15,
   "metadata": {},
   "outputs": [],
   "source": [
    "import numpy as np\n",
    "from sklearn.metrics import mean_squared_error\n",
    "\n",
    "\n",
    "def get_accuracy(y_pred, y_true, threshold = 0.01):\n",
    "    a = (y_true - y_pred) / y_true\n",
    "    b = np.where(abs(a) <= threshold)\n",
    "    return len(b[0]) / len(y_true)\n",
    "\n",
    "\n",
    "def get_metrics(y_pred, y_true):\n",
    "    rmspe = (np.sqrt(np.mean(np.square((y_true - y_pred) / y_true)))) * 100\n",
    "    rmse = np.sqrt(mean_squared_error(y_pred, y_true))\n",
    "    error = rmse / np.mean(y_true)\n",
    "    acc5 = get_accuracy(y_pred, y_true, threshold=0.05)\n",
    "    acc10 = get_accuracy(y_pred, y_true, threshold=0.10)\n",
    "    acc15 = get_accuracy(y_pred, y_true, threshold=0.15)\n",
    "    print(f\"rmse: {rmse:.4f}; rmspe: {rmspe:.4f}; error: {error:.4f}; 5% accuracy: {acc5:.4f}; 10% accuracy: {acc10:.4f}; 15% accuracy: {acc15:.4f}.\")\n"
   ]
  },
  {
   "cell_type": "code",
   "execution_count": 16,
   "metadata": {},
   "outputs": [
    {
     "name": "stdout",
     "output_type": "stream",
     "text": [
      "energy Results:\n",
      "rmse: 0.9554; rmspe: 59.6581; error: 2.2549; 5% accuracy: 0.1721; 10% accuracy: 0.3289; 15% accuracy: 0.4685.\n",
      "\n",
      "Testing set:\n",
      "rmse: 0.2274; rmspe: inf; error: 7.3458; 5% accuracy: 0.1101; 10% accuracy: 0.2098; 15% accuracy: 0.3007.\n",
      "\n"
     ]
    },
    {
     "name": "stderr",
     "output_type": "stream",
     "text": [
      "/home/t-chengluo/miniconda3/envs/carbon/lib/python3.7/site-packages/ipykernel_launcher.py:12: RuntimeWarning: divide by zero encountered in true_divide\n",
      "  if sys.path[0] == '':\n",
      "/home/t-chengluo/miniconda3/envs/carbon/lib/python3.7/site-packages/ipykernel_launcher.py:6: RuntimeWarning: divide by zero encountered in true_divide\n",
      "  \n"
     ]
    },
    {
     "name": "stdout",
     "output_type": "stream",
     "text": [
      "latency Results:\n",
      "rmse: 0.0116; rmspe: 67.3600; error: 1.7016; 5% accuracy: 0.1931; 10% accuracy: 0.3528; 15% accuracy: 0.5029.\n",
      "\n",
      "Testing set:\n",
      "rmse: 0.0044; rmspe: 776.0877; error: 6.0964; 5% accuracy: 0.1486; 10% accuracy: 0.2990; 15% accuracy: 0.4318.\n",
      "\n"
     ]
    }
   ],
   "source": [
    "# RandomForestRegressor\n",
    "from sklearn.ensemble import RandomForestRegressor\n",
    "n_features = len(train_data['feature'][0])\n",
    "\n",
    "for label in [\"energy\", \"latency\"]:\n",
    "    model = RandomForestRegressor(\n",
    "        max_depth=50,\n",
    "        n_estimators=370,\n",
    "        min_samples_leaf=1,\n",
    "        min_samples_split=2,\n",
    "        max_features=n_features,\n",
    "        oob_score=True,\n",
    "        random_state=10\n",
    "    )\n",
    "    model.fit(train_data[\"feature\"], train_data[label])\n",
    "    # val\n",
    "    predicts = model.predict(val_data[\"feature\"])\n",
    "    print(f'{label} Results:')\n",
    "    get_metrics(predicts, val_data[label])\n",
    "    print(\"\")\n",
    "    # test\n",
    "    predicts = model.predict(test_data[\"feature\"])\n",
    "    print('Testing set:')\n",
    "    get_metrics(predicts, test_data[label])\n",
    "    print(\"\")\n",
    "    \n"
   ]
  }
 ],
 "metadata": {
  "interpreter": {
   "hash": "1a15509c6e70554471c8dc63e93658ce4a46c97c632ba671a7bf04a0d21c57f5"
  },
  "kernelspec": {
   "display_name": "Python 3.8.8 ('base')",
   "language": "python",
   "name": "python3"
  },
  "language_info": {
   "codemirror_mode": {
    "name": "ipython",
    "version": 3
   },
   "file_extension": ".py",
   "mimetype": "text/x-python",
   "name": "python",
   "nbconvert_exporter": "python",
   "pygments_lexer": "ipython3",
   "version": "3.7.11"
  },
  "orig_nbformat": 4
 },
 "nbformat": 4,
 "nbformat_minor": 2
}
