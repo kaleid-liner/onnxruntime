{
 "cells": [
  {
   "cell_type": "code",
   "execution_count": 1,
   "metadata": {},
   "outputs": [],
   "source": [
    "import csv\n",
    "from sklearn.model_selection import train_test_split\n",
    "def data_processer(file_name : str, split : bool = False):\n",
    "    feature, energy, latency = [], [], []\n",
    "    with open(file_name, 'r') as fp:\n",
    "        f_csv = csv.DictReader(fp)\n",
    "        data = list(f_csv)\n",
    "    for item in data:\n",
    "        cin, cout = int(item['K']), int(item['N'])\n",
    "        repeat = int(item['repeat'])\n",
    "        feature.append([cin, cout])\n",
    "        energy.append(float(item['energy']) / repeat)\n",
    "        latency.append(float(item['latency']) / repeat)\n",
    "    if split:\n",
    "        feature_train, feature_test, energy_train, energy_test, latency_train, latency_test = train_test_split(feature, energy, latency)\n",
    "        train_split = {\n",
    "            'feature' : feature_train,\n",
    "            'energy' : energy_train,\n",
    "            'latency' : latency_train\n",
    "        }\n",
    "        test_split = {\n",
    "            'feature' : feature_test,\n",
    "            'energy' : energy_test,\n",
    "            'latency' : latency_test\n",
    "        }\n",
    "        return train_split, test_split\n",
    "    else:\n",
    "        train_data = {\n",
    "            'feature' : feature,\n",
    "            'energy' : energy,\n",
    "            'latency' : latency\n",
    "        }\n",
    "        return train_data\n",
    "\n",
    "train_data, val_data = data_processer('onnx_gemm_results_resampled.csv', True)\n",
    "test_data = data_processer('onnx_gemm_results_raw.csv', False)"
   ]
  },
  {
   "cell_type": "code",
   "execution_count": 2,
   "metadata": {},
   "outputs": [],
   "source": [
    "import numpy as np\n",
    "from sklearn.metrics import mean_squared_error\n",
    "\n",
    "\n",
    "def get_accuracy(y_pred, y_true, threshold = 0.01):\n",
    "    a = (y_true - y_pred) / y_true\n",
    "    b = np.where(abs(a) <= threshold)\n",
    "    return len(b[0]) / len(y_true)\n",
    "\n",
    "\n",
    "def get_metrics(y_pred, y_true):\n",
    "    rmspe = (np.sqrt(np.mean(np.square((y_true - y_pred) / y_true)))) * 100\n",
    "    rmse = np.sqrt(mean_squared_error(y_pred, y_true))\n",
    "    error = rmse / np.mean(y_true)\n",
    "    acc5 = get_accuracy(y_pred, y_true, threshold=0.05)\n",
    "    acc10 = get_accuracy(y_pred, y_true, threshold=0.10)\n",
    "    acc15 = get_accuracy(y_pred, y_true, threshold=0.15)\n",
    "    print(f\"rmse: {rmse:.4f}; rmspe: {rmspe:.4f}; error: {error:.4f}; 5% accuracy: {acc5:.4f}; 10% accuracy: {acc10:.4f}; 15% accuracy: {acc15:.4f}.\")\n",
    "    "
   ]
  },
  {
   "cell_type": "code",
   "execution_count": 3,
   "metadata": {},
   "outputs": [
    {
     "name": "stdout",
     "output_type": "stream",
     "text": [
      "latency Results:\n",
      "rmse: 0.0002; rmspe: 5.0565; error: 0.0326; 5% accuracy: 0.8593; 10% accuracy: 0.9550; 15% accuracy: 0.9863.\n",
      "\n",
      "Testing set:\n",
      "rmse: 0.0001; rmspe: 5.8415; error: 0.0149; 5% accuracy: 0.7667; 10% accuracy: 0.8667; 15% accuracy: 0.9333.\n",
      "\n",
      "energy Results:\n",
      "rmse: 0.0077; rmspe: 4.8006; error: 0.0309; 5% accuracy: 0.8714; 10% accuracy: 0.9646; 15% accuracy: 0.9831.\n",
      "\n",
      "Testing set:\n",
      "rmse: 0.0039; rmspe: 6.9418; error: 0.0200; 5% accuracy: 0.7667; 10% accuracy: 0.8667; 15% accuracy: 0.9000.\n",
      "\n"
     ]
    }
   ],
   "source": [
    "# RandomForestRegressor\n",
    "from sklearn.ensemble import RandomForestRegressor\n",
    "\n",
    "for label in [\"latency\", \"energy\"]:\n",
    "    model = RandomForestRegressor(\n",
    "        max_depth=50,\n",
    "        n_estimators=370,\n",
    "        min_samples_leaf=1,\n",
    "        min_samples_split=2,\n",
    "        max_features=2,\n",
    "        oob_score=True,\n",
    "        random_state=10\n",
    "    )\n",
    "    model.fit(train_data[\"feature\"], train_data[label])\n",
    "    # val\n",
    "    predicts = model.predict(val_data[\"feature\"])\n",
    "    print(f'{label} Results:')\n",
    "    get_metrics(predicts, val_data[label])\n",
    "    print(\"\")\n",
    "    # test\n",
    "    predicts = model.predict(test_data[\"feature\"])\n",
    "    print('Testing set:')\n",
    "    get_metrics(predicts, test_data[label])\n",
    "    print(\"\")\n",
    "    \n"
   ]
  },
  {
   "cell_type": "code",
   "execution_count": 4,
   "metadata": {},
   "outputs": [
    {
     "name": "stdout",
     "output_type": "stream",
     "text": [
      "latency Results:\n",
      "rmse: 0.0275; rmspe: 2270.7852; error: 5.0598; 5% accuracy: 0.0000; 10% accuracy: 0.0000; 15% accuracy: 0.0000.\n",
      "rmse: 0.0275; rmspe: 2270.7852; error: 5.0598; 5% accuracy: 0.0000; 10% accuracy: 0.0000; 15% accuracy: 0.0000.\n",
      "rmse: 0.0275; rmspe: 2270.7852; error: 5.0598; 5% accuracy: 0.0000; 10% accuracy: 0.0000; 15% accuracy: 0.0000.\n",
      "\n",
      "energy Results:\n",
      "rmse: 0.4398; rmspe: 425.7306; error: 1.7648; 5% accuracy: 0.0016; 10% accuracy: 0.0048; 15% accuracy: 0.0096.\n"
     ]
    }
   ],
   "source": [
    "# seems svm regresser does not fit this situation\n",
    "from sklearn.svm import SVR\n",
    "\n",
    "for label in [\"latency\", \"energy\"]:\n",
    "    svr_rbf = SVR(kernel=\"rbf\", C=100, gamma=0.1, epsilon=0.1)\n",
    "    svr_lin = SVR(kernel=\"linear\", C=100, gamma=\"scale\")\n",
    "    svr_poly = SVR(kernel=\"poly\", C=100, gamma=\"scale\", degree=3, epsilon=0.1, coef0=1)\n",
    "    print(f'{label} Results:')\n",
    "    for model in [svr_rbf, svr_lin, svr_poly]:\n",
    "        model.fit(train_data[\"feature\"], train_data[label])\n",
    "        predicts = model.predict(val_data[\"feature\"])\n",
    "        # print([(x, y) for x, y in zip(predicts, val_data[label])][:5])\n",
    "        get_metrics(predicts, val_data[label])\n",
    "    print(\"\")\n"
   ]
  },
  {
   "cell_type": "code",
   "execution_count": null,
   "metadata": {},
   "outputs": [
    {
     "name": "stdout",
     "output_type": "stream",
     "text": [
      "latency Results:\n",
      "rmse: 0.0000; rmspe: 12.1379; error: 0.0819; 5% accuracy: 0.2581; 10% accuracy: 0.5161; 15% accuracy: 0.7742.\n",
      "\n",
      "energy Results:\n",
      "rmse: 0.0016; rmspe: 17.5204; error: 0.2603; 5% accuracy: 0.1935; 10% accuracy: 0.5484; 15% accuracy: 0.7097.\n",
      "\n"
     ]
    }
   ],
   "source": [
    "# Ridge Regression\n",
    "from sklearn import linear_model\n",
    "\n",
    "for label in [\"latency\", \"energy\"]:\n",
    "    model = linear_model.Ridge(alpha=.5)\n",
    "    model.fit(train_data[\"feature\"], train_data[label])\n",
    "    predicts = model.predict(val_data[\"feature\"])\n",
    "    print(f'{label} Results:')\n",
    "    get_metrics(predicts, val_data[label])\n",
    "    print(\"\")\n",
    "    \n"
   ]
  },
  {
   "cell_type": "code",
   "execution_count": 14,
   "metadata": {},
   "outputs": [
    {
     "name": "stdout",
     "output_type": "stream",
     "text": [
      "latency Results:\n",
      "rmse: 0.0000; rmspe: 12.1379; error: 0.0819; 5% accuracy: 0.2581; 10% accuracy: 0.5161; 15% accuracy: 0.7742.\n",
      "\n",
      "energy Results:\n",
      "rmse: 0.0016; rmspe: 17.5208; error: 0.2604; 5% accuracy: 0.1935; 10% accuracy: 0.5484; 15% accuracy: 0.7097.\n",
      "\n"
     ]
    }
   ],
   "source": [
    "# Bayes Ridge Regression\n",
    "from sklearn import linear_model\n",
    "\n",
    "for label in [\"latency\", \"energy\"]:\n",
    "    model = linear_model.BayesianRidge()\n",
    "    model.fit(train_data[\"feature\"], train_data[label])\n",
    "    predicts = model.predict(val_data[\"feature\"])\n",
    "    print(f'{label} Results:')\n",
    "    get_metrics(predicts, val_data[label])\n",
    "    print(\"\")"
   ]
  },
  {
   "cell_type": "code",
   "execution_count": 16,
   "metadata": {},
   "outputs": [
    {
     "name": "stdout",
     "output_type": "stream",
     "text": [
      "latency Results:\n",
      "rmse: 4350721158818795.5000; rmspe: 5857916985507366043648.0000; error: 78090395369461530624.0000; 5% accuracy: 0.0000; 10% accuracy: 0.0000; 15% accuracy: 0.0000.\n",
      "\n",
      "energy Results:\n",
      "rmse: 18262103848741328.0000; rmspe: 161672714640362799104.0000; error: 2964022023167198720.0000; 5% accuracy: 0.0000; 10% accuracy: 0.0000; 15% accuracy: 0.0000.\n",
      "\n"
     ]
    }
   ],
   "source": [
    "# SGD regressor does not work\n",
    "from sklearn import linear_model\n",
    "\n",
    "for label in [\"latency\", \"energy\"]:\n",
    "    model = linear_model.SGDRegressor()\n",
    "    model.fit(train_data[\"feature\"], train_data[label])\n",
    "    predicts = model.predict(val_data[\"feature\"])\n",
    "    print(f'{label} Results:')\n",
    "    get_metrics(predicts, val_data[label])\n",
    "    print(\"\")"
   ]
  },
  {
   "cell_type": "code",
   "execution_count": 17,
   "metadata": {},
   "outputs": [
    {
     "name": "stdout",
     "output_type": "stream",
     "text": [
      "latency Results:\n",
      "rmse: 0.0001; rmspe: 42.2466; error: 1.5882; 5% accuracy: 0.0645; 10% accuracy: 0.1935; 15% accuracy: 0.1935.\n",
      "\n",
      "energy Results:\n",
      "rmse: 0.0089; rmspe: 20.6014; error: 1.4392; 5% accuracy: 0.3226; 10% accuracy: 0.4516; 15% accuracy: 0.6129.\n",
      "\n"
     ]
    }
   ],
   "source": [
    "# ElasticNet\n",
    "from sklearn import linear_model\n",
    "\n",
    "for label in [\"latency\", \"energy\"]:\n",
    "    model = linear_model.ElasticNet()\n",
    "    model.fit(train_data[\"feature\"], train_data[label])\n",
    "    predicts = model.predict(val_data[\"feature\"])\n",
    "    print(f'{label} Results:')\n",
    "    get_metrics(predicts, val_data[label])\n",
    "    print(\"\")"
   ]
  },
  {
   "cell_type": "code",
   "execution_count": null,
   "metadata": {},
   "outputs": [],
   "source": [
    "# GradientBoostingRegressor\n",
    "from sklearn import ensemble\n",
    "\n",
    "for label in [\"latency\", \"energy\"]:\n",
    "    model = ensemble.GradientBoostingRegressor()\n",
    "    model.fit(train_data[\"feature\"], train_data[label])\n",
    "    predicts = model.predict(val_data[\"feature\"])\n",
    "    print(f'{label} Results:')\n",
    "    get_metrics(predicts, val_data[label])\n",
    "    print(\"\")"
   ]
  },
  {
   "cell_type": "markdown",
   "metadata": {},
   "source": [
    "## Change Data Size to [Train 4000; Test 1000]"
   ]
  },
  {
   "cell_type": "code",
   "execution_count": 8,
   "metadata": {},
   "outputs": [],
   "source": [
    "import json\n",
    "from sklearn.model_selection import train_test_split\n",
    "def data_processer(file_name):\n",
    "    feature, engergy, latency = [], [], []\n",
    "    with open(file_name, 'r') as fp:\n",
    "        data = json.load(fp)\n",
    "    for item in data:\n",
    "        cin, cout = item[\"in_features\"], item[\"out_features\"]\n",
    "        feature.append([cin, cout, cin * cout])\n",
    "        engergy.append(item[\"energy\"])\n",
    "        latency.append(item[\"latency\"])\n",
    "    return (feature, latency)\n",
    "\n",
    "data = data_processer(\"linear_results2.json\")\n",
    "X, Y = data\n",
    "trainx, testx, trainy, testy = train_test_split(X, Y, test_size = 0.2, random_state = 10)\n"
   ]
  },
  {
   "cell_type": "code",
   "execution_count": 9,
   "metadata": {},
   "outputs": [
    {
     "name": "stdout",
     "output_type": "stream",
     "text": [
      "Results:\n",
      "rmse: 0.0000; rmspe: 14.4431; error: 0.1217; 5% accuracy: 0.1920; 10% accuracy: 0.3810; 15% accuracy: 0.6120.\n",
      "\n"
     ]
    }
   ],
   "source": [
    "# RandomForestRegressor\n",
    "from sklearn.ensemble import RandomForestRegressor\n",
    "\n",
    "\n",
    "model = RandomForestRegressor(\n",
    "    max_depth=50,\n",
    "    n_estimators=370,\n",
    "    min_samples_leaf=1,\n",
    "    min_samples_split=2,\n",
    "    max_features=3,\n",
    "    oob_score=True,\n",
    "    random_state=10\n",
    ")\n",
    "model.fit(trainx, trainy)\n",
    "predicts = model.predict(testx)\n",
    "\n",
    "# locate large error data\n",
    "errorx, errory = [], []\n",
    "for i in range(len(testx)):\n",
    "    y1, y2 = testy[i], predicts[i]\n",
    "    # print(testy[i], predicts[i])\n",
    "    error = abs(y1 - y2) / y1\n",
    "    if error > 0.1:\n",
    "        errorx.append(testx[i])\n",
    "        errory.append(testy[i])\n",
    "\n",
    "print(f'Results:')\n",
    "get_metrics(predicts, testy)\n",
    "print(\"\")"
   ]
  },
  {
   "cell_type": "code",
   "execution_count": 10,
   "metadata": {},
   "outputs": [
    {
     "data": {
      "image/png": "[encoded data removed]",
      "text/plain": [
       "<Figure size 2304x1728 with 1 Axes>"
      ]
     },
     "metadata": {
      "needs_background": "light"
     },
     "output_type": "display_data"
    }
   ],
   "source": [
    "import matplotlib.pyplot as plt\n",
    "import math\n",
    "\n",
    "plt.figure(figsize=(32,24))\n",
    "# plt.scatter([x[2] for x in trainx], [math.log(y) for y in trainy], color = 'blue', s = 10,label = 'train')\n",
    "plt.scatter([x[2] for x in testx], [math.log(y) for y in testy], color = 'blue', s = 10, label = 'test')\n",
    "plt.scatter([x[2] for x in errorx], [math.log(y) for y in errory], color = 'red', s = 10, label = 'test')\n",
    "\n",
    "plt.show()"
   ]
  },
  {
   "cell_type": "code",
   "execution_count": 14,
   "metadata": {},
   "outputs": [
    {
     "name": "stdout",
     "output_type": "stream",
     "text": [
      "finegrained data:  12380\n"
     ]
    }
   ],
   "source": [
    "# finegrained sampling for data with error > 0.1\n",
    "import random\n",
    "def sample_in_range(mind, maxd, sample_num):\n",
    "    '''sample #sample_num data from a range [mind, maxd)\n",
    "    '''\n",
    "    # if the sample_num is bigger than sample population, we only keep the number of population to avoid repetition\n",
    "    if maxd - mind <= sample_num:\n",
    "        data = list(range(mind, maxd))\n",
    "        random.shuffle(data)\n",
    "        return data\n",
    "    else:\n",
    "        return random.sample(range(mind, maxd), sample_num)\n",
    "\n",
    "\n",
    "def sample_cin_cout(cin, cout, sample_num): \n",
    "    '''fine-grained sample #sample_num data in the cin and cout dimensions, respectively\n",
    "    '''\n",
    "    cins = sample_in_range(int(cin * 0.5), int(cin * 1.2), sample_num)\n",
    "    couts = sample_in_range(int(cout * 0.5), int(cout * 1.2), sample_num)\n",
    "    l = min(len(cins), len(couts)) # align the length of cins and couts\n",
    "    cins, couts = cins[:l], couts[:l]\n",
    "    return cins, couts\n",
    "\n",
    "\n",
    "def finegrained_sampling_fc(cfgs, count):\n",
    "    '''\n",
    "    Sampling configs for fc kernels\n",
    "    Returned params include: (cin, cout)\n",
    "    '''\n",
    "    ncfgs = []\n",
    "    for cfg in cfgs:\n",
    "        cins, couts = sample_cin_cout(cfg[0], cfg[1], count)\n",
    "        for cin, cout in zip(cins, couts):\n",
    "            c = {\n",
    "                'in_features': cin,\n",
    "                'out_features': cout\n",
    "            }\n",
    "            ncfgs.append(c)\n",
    "    print(\"finegrained data: \", len(ncfgs))\n",
    "    return ncfgs\n",
    "\n",
    "with open(\"finegrained_data.json\", \"w\") as fp:\n",
    "    json.dump(finegrained_sampling_fc(errorx, 20), fp, indent=4)"
   ]
  }
 ],
 "metadata": {
  "interpreter": {
   "hash": "1a15509c6e70554471c8dc63e93658ce4a46c97c632ba671a7bf04a0d21c57f5"
  },
  "kernelspec": {
   "display_name": "Python 3.8.8 ('base')",
   "language": "python",
   "name": "python3"
  },
  "language_info": {
   "codemirror_mode": {
    "name": "ipython",
    "version": 3
   },
   "file_extension": ".py",
   "mimetype": "text/x-python",
   "name": "python",
   "nbconvert_exporter": "python",
   "pygments_lexer": "ipython3",
   "version": "3.7.11"
  },
  "orig_nbformat": 4
 },
 "nbformat": 4,
 "nbformat_minor": 2
}
